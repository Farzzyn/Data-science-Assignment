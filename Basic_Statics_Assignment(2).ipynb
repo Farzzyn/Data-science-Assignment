{
 "cells": [
  {
   "cell_type": "code",
   "execution_count": 1,
   "id": "b7662c61-b46d-42e6-b9cc-d5b22aa0f9c8",
   "metadata": {},
   "outputs": [],
   "source": [
    "import numpy as np\n",
    "import scipy.stats as stats"
   ]
  },
  {
   "cell_type": "code",
   "execution_count": 5,
   "id": "1da2e595-f702-46fc-9e53-b2ed4aadaa17",
   "metadata": {},
   "outputs": [],
   "source": [
    "data = np.array([1.13, 1.55, 1.43, 0.92, 1.25, 1.36, 1.32, 0.85, 1.07, 1.48, 1.20, 1.33, 1.18, 1.22, 1.29])\n",
    "# Given data"
   ]
  },
  {
   "cell_type": "code",
   "execution_count": 26,
   "id": "32ad9607-8bf7-4610-b58b-7d712c9844cc",
   "metadata": {},
   "outputs": [],
   "source": [
    "len = len(data)\n",
    "# count of sample data"
   ]
  },
  {
   "cell_type": "code",
   "execution_count": 28,
   "id": "307d211a-3187-42fd-ae47-5bf72f7dfd45",
   "metadata": {},
   "outputs": [
    {
     "name": "stdout",
     "output_type": "stream",
     "text": [
      "1.2386666666666666\n"
     ]
    }
   ],
   "source": [
    "sample_mean = np.mean(data)\n",
    "print(sample_mean)"
   ]
  },
  {
   "cell_type": "code",
   "execution_count": 38,
   "id": "7443ac65-7d21-4089-95de-ef2bc57c9944",
   "metadata": {},
   "outputs": [
    {
     "name": "stdout",
     "output_type": "stream",
     "text": [
      "0.19316412956959936\n"
     ]
    }
   ],
   "source": [
    "sample_std = np.std(data,ddof=1)\n",
    "print(sample_std)"
   ]
  },
  {
   "cell_type": "code",
   "execution_count": 40,
   "id": "5da7f17f-031c-4c37-a86e-ad8bc0d64a56",
   "metadata": {},
   "outputs": [],
   "source": [
    "alpha = 0.01"
   ]
  },
  {
   "cell_type": "code",
   "execution_count": null,
   "id": "5269c560-ef67-4b01-8543-257609f2a163",
   "metadata": {},
   "outputs": [],
   "source": []
  },
  {
   "cell_type": "markdown",
   "id": "e2d471b0-fccc-46ad-ad6f-056bec6d2509",
   "metadata": {},
   "source": [
    " ### a. Build 99% Confidence Interval Using Sample Standard Deviation\n"
   ]
  },
  {
   "cell_type": "code",
   "execution_count": 44,
   "id": "ba0d870b-ce68-4b8b-8a74-29cff6980756",
   "metadata": {},
   "outputs": [],
   "source": [
    "t_critical = stats.t.ppf(1 - alpha/2, df=len-1)  # t-score for df=14\n",
    "margin_of_error_t = t_critical * (sample_std / np.sqrt(len))\n",
    "ci_t = (sample_mean - margin_of_error_t, sample_mean + margin_of_error_t)"
   ]
  },
  {
   "cell_type": "code",
   "execution_count": 46,
   "id": "0202166c-ec79-45ad-9eb8-1b883ec60a36",
   "metadata": {},
   "outputs": [
    {
     "name": "stdout",
     "output_type": "stream",
     "text": [
      "99% Confidence Interval using t-distribution: (1.0901973384384906, 1.3871359948948425)\n"
     ]
    }
   ],
   "source": [
    "# result\n",
    "\n",
    "print(f\"99% Confidence Interval using t-distribution: {ci_t}\")"
   ]
  },
  {
   "cell_type": "code",
   "execution_count": null,
   "id": "91f40808-433b-47b5-bbb5-d86480677d67",
   "metadata": {},
   "outputs": [],
   "source": []
  },
  {
   "cell_type": "markdown",
   "id": "b61ca542-92ac-4a40-b382-ee08f6ab3453",
   "metadata": {},
   "source": [
    "### b. Build 99% Confidence Interval Using Known Population Standard Deviation"
   ]
  },
  {
   "cell_type": "code",
   "execution_count": 51,
   "id": "947fa871-57a7-4ecd-a2e2-cc7bd27a172d",
   "metadata": {},
   "outputs": [],
   "source": [
    "pop_std = 0.2  # Given population standard deviation\n",
    "z_critical = stats.norm.ppf(1 - alpha/2)  # z-score for 99% confidence\n",
    "margin_of_error_z = z_critical * (pop_std / np.sqrt(len))\n",
    "ci_z = (sample_mean - margin_of_error_z, sample_mean + margin_of_error_z)"
   ]
  },
  {
   "cell_type": "code",
   "execution_count": 55,
   "id": "37a4854d-1012-49e0-91ea-eda32429fec0",
   "metadata": {},
   "outputs": [
    {
     "name": "stdout",
     "output_type": "stream",
     "text": [
      "99% Confidence Interval using z-distribution: (1.1056514133957607, 1.3716819199375725)\n"
     ]
    }
   ],
   "source": [
    "print(f\"99% Confidence Interval using z-distribution: {ci_z}\")"
   ]
  },
  {
   "cell_type": "code",
   "execution_count": null,
   "id": "3a7ab2a1-78b2-452c-9918-57186a2bee55",
   "metadata": {},
   "outputs": [],
   "source": []
  }
 ],
 "metadata": {
  "kernelspec": {
   "display_name": "Python [conda env:base] *",
   "language": "python",
   "name": "conda-base-py"
  },
  "language_info": {
   "codemirror_mode": {
    "name": "ipython",
    "version": 3
   },
   "file_extension": ".py",
   "mimetype": "text/x-python",
   "name": "python",
   "nbconvert_exporter": "python",
   "pygments_lexer": "ipython3",
   "version": "3.12.7"
  }
 },
 "nbformat": 4,
 "nbformat_minor": 5
}
