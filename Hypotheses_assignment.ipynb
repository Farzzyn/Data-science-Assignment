{
 "cells": [
  {
   "cell_type": "markdown",
   "id": "0d9359c2-09bc-4e16-92b3-c5780c0e338e",
   "metadata": {},
   "source": [
    "### 1. State the Hypotheses\n",
    "- Null Hypothesis ( 𝐻 0​): The mean weekly operating cost follows the given model.\n",
    "- Alternative Hypothesis ( 𝐻 1​): The mean weekly operating cost is higher than the given model.\n"
   ]
  },
  {
   "cell_type": "markdown",
   "id": "7bca2d92-afff-4327-889c-d5a258be1c1d",
   "metadata": {},
   "source": [
    "### 2. Calculate the Test Statistic\n",
    "\n",
    "\n",
    "\n",
    "            The formula used:\n",
    "\n",
    "$$\n",
    "t = \\frac{\\bar{x} - \\mu}{\\sigma / \\sqrt{n}}\n",
    "$$"
   ]
  },
  {
   "cell_type": "code",
   "execution_count": 27,
   "id": "488cd613-993a-41b9-97cf-d44399ae714a",
   "metadata": {},
   "outputs": [],
   "source": [
    "import scipy.stats as stats\n",
    "import numpy as np"
   ]
  },
  {
   "cell_type": "code",
   "execution_count": 29,
   "id": "4640541a-d968-4d54-8c2b-232639d49958",
   "metadata": {},
   "outputs": [],
   "source": [
    "#give Data\n",
    "\n",
    "sample_mean = 3050\n",
    "X = 600\n",
    "theoretical_mean = 1000 + 5 * X\n",
    "sigma = 5 * 25\n",
    "n = 25"
   ]
  },
  {
   "cell_type": "code",
   "execution_count": 33,
   "id": "59cd2189-74cf-4275-8154-937a3a099bf2",
   "metadata": {},
   "outputs": [],
   "source": [
    " # Calculate the test statistic\n",
    "t_statistic = (sample_mean - theoretical_mean) / (sigma / np.sqrt(n))"
   ]
  },
  {
   "cell_type": "code",
   "execution_count": 35,
   "id": "03f7508d-3158-4c55-aa93-7551147e3106",
   "metadata": {},
   "outputs": [
    {
     "name": "stdout",
     "output_type": "stream",
     "text": [
      "Test Statistics :  -38.0\n"
     ]
    }
   ],
   "source": [
    "print(\"Test Statistics : \",t_statistic)"
   ]
  },
  {
   "cell_type": "code",
   "execution_count": null,
   "id": "4e0cc69d-3b41-49d0-b324-aee3e2c7cd25",
   "metadata": {},
   "outputs": [],
   "source": []
  },
  {
   "cell_type": "markdown",
   "id": "729b17f1-e051-4942-ac78-8ff85dfcb63f",
   "metadata": {},
   "source": [
    "### 3. Determine the Critical Value"
   ]
  },
  {
   "cell_type": "code",
   "execution_count": 42,
   "id": "13086640-9beb-4077-b45e-cd9035c583ec",
   "metadata": {},
   "outputs": [],
   "source": [
    "df = n - 1  # degrees of freedom\n",
    "alpha = 0.05\n",
    "critical_value = stats.t.ppf(1 - alpha, df)\n"
   ]
  },
  {
   "cell_type": "code",
   "execution_count": 44,
   "id": "6bd3edd3-9b45-41ff-9c88-5114a0814f05",
   "metadata": {},
   "outputs": [
    {
     "name": "stdout",
     "output_type": "stream",
     "text": [
      "Critical value 1.7108820799094275\n"
     ]
    }
   ],
   "source": [
    "print(\"Critical value\",critical_value)"
   ]
  },
  {
   "cell_type": "code",
   "execution_count": null,
   "id": "27e53ee0-b69b-4257-97a5-d138d6491a45",
   "metadata": {},
   "outputs": [],
   "source": []
  },
  {
   "cell_type": "markdown",
   "id": "f7830d3e-c5da-4770-8875-41e3f7a1d97f",
   "metadata": {},
   "source": [
    "### 4. Make a Decision"
   ]
  },
  {
   "cell_type": "code",
   "execution_count": 48,
   "id": "220ba06c-b9b4-4024-be0e-9d005fe8dcfc",
   "metadata": {},
   "outputs": [
    {
     "name": "stdout",
     "output_type": "stream",
     "text": [
      "Fail to reject the null hypothesis: No strong evidence that the operating cost is higher.\n"
     ]
    }
   ],
   "source": [
    "if t_statistic > critical_value:\n",
    "    decision = \"Reject the null hypothesis: The operating cost is significantly higher than the model.\"\n",
    "else:\n",
    "     decision = \"Fail to reject the null hypothesis: No strong evidence that the operating cost is higher.\"\n",
    "    \n",
    "print(decision)"
   ]
  },
  {
   "cell_type": "code",
   "execution_count": null,
   "id": "0838ed9d-1504-4f35-8423-a16c590eda7d",
   "metadata": {},
   "outputs": [],
   "source": []
  },
  {
   "cell_type": "markdown",
   "id": "1011992a-a860-4996-8cb7-891abc8904d6",
   "metadata": {},
   "source": [
    "### 5. Conclusion"
   ]
  },
  {
   "cell_type": "code",
   "execution_count": 55,
   "id": "1af8422d-c262-448b-a4b5-65bef686c237",
   "metadata": {},
   "outputs": [
    {
     "name": "stdout",
     "output_type": "stream",
     "text": [
      "Hypothesis Testing Results:\n",
      "Test Statistic (t): -38.0000\n",
      "Critical Value: 1.7109\n",
      "Decision: Fail to reject the null hypothesis: No strong evidence that the operating cost is higher.\n"
     ]
    }
   ],
   "source": [
    "print(\"Hypothesis Testing Results:\")\n",
    "print(f\"Test Statistic (t): {t_statistic:.4f}\")\n",
    "print(f\"Critical Value: {critical_value:.4f}\")\n",
    "print(f\"Decision: {decision}\")\n"
   ]
  },
  {
   "cell_type": "code",
   "execution_count": null,
   "id": "a73ecce0-3987-4559-883d-3b4f46986130",
   "metadata": {},
   "outputs": [],
   "source": []
  }
 ],
 "metadata": {
  "kernelspec": {
   "display_name": "Python [conda env:base] *",
   "language": "python",
   "name": "conda-base-py"
  },
  "language_info": {
   "codemirror_mode": {
    "name": "ipython",
    "version": 3
   },
   "file_extension": ".py",
   "mimetype": "text/x-python",
   "name": "python",
   "nbconvert_exporter": "python",
   "pygments_lexer": "ipython3",
   "version": "3.12.7"
  }
 },
 "nbformat": 4,
 "nbformat_minor": 5
}
