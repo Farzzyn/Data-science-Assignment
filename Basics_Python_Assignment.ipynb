{
 "cells": [
  {
   "cell_type": "markdown",
   "id": "e5783767-f7af-4114-be95-db2374f5233a",
   "metadata": {},
   "source": [
    "### Exercise 1:\n",
    " ##### Prime Numbers\n",
    "________________________________\n",
    "Write a Python program that checks whether a given number is prime or not. A prime number is a natural number greater than 1 that has no positive divisors other than 1 and itself"
   ]
  },
  {
   "cell_type": "code",
   "execution_count": 67,
   "id": "b4cca2dd-d62d-4582-936c-e2648d765470",
   "metadata": {},
   "outputs": [
    {
     "name": "stdin",
     "output_type": "stream",
     "text": [
      "Enter The number: 111\n"
     ]
    },
    {
     "name": "stdout",
     "output_type": "stream",
     "text": [
      "111,is not a prime\n"
     ]
    }
   ],
   "source": [
    "def is_prime(number):\n",
    "    if number <= 1:\n",
    "        return False\n",
    "    if number == 2:\n",
    "        return True\n",
    "    if number % 2 == 0:\n",
    "        return False\n",
    "    for i in range(3,int(number ** 0.5)+ 1,2):\n",
    "        if number % i == 0:\n",
    "            return False\n",
    "    return True\n",
    "num = int(input(\"Enter The number:\"))\n",
    "if is_prime(num):\n",
    "    print(f\"{num}, is actual an prime number.\")\n",
    "else:\n",
    "    print(f\"{num},is not a prime\")\n",
    "        "
   ]
  },
  {
   "cell_type": "markdown",
   "id": "ef818f1a-3d37-4cdf-ad00-49dad1f43e1f",
   "metadata": {},
   "source": [
    "### Exercise 2:\n",
    "Product of Random Numbers\n",
    "____________________________________________\n",
    "Develop a Python program that generates two random numbers and asks the user to enter the product of these numbers. The program should then check if the user's answer is correct and display an appropriate message.\n"
   ]
  },
  {
   "cell_type": "code",
   "execution_count": 43,
   "id": "d1eff08c-f9a3-4088-9f09-e44c3c43f4ba",
   "metadata": {},
   "outputs": [
    {
     "name": "stdout",
     "output_type": "stream",
     "text": [
      "What is 8 X 9 ?\n"
     ]
    },
    {
     "name": "stdin",
     "output_type": "stream",
     "text": [
      "Your answer is : 77\n"
     ]
    },
    {
     "name": "stdout",
     "output_type": "stream",
     "text": [
      " Wrong answer,right anwser is :72\n"
     ]
    }
   ],
   "source": [
    "import random\n",
    "def random_porduct():\n",
    "    n1 = random.randint(2,12)\n",
    "    n2 = random.randint(2,12)\n",
    "\n",
    "    right_answer = n1 * n2\n",
    "\n",
    "    print(f\"What is {n1} X {n2} ?\")\n",
    "    answer=int(input(\"Your answer is :\"))\n",
    "\n",
    "    if answer == right_answer :\n",
    "        print(\" You got it right\")\n",
    "    else:\n",
    "        print(f\" Wrong answer,right anwser is :{right_answer}\")\n",
    "\n",
    "random_porduct()\n"
   ]
  },
  {
   "cell_type": "markdown",
   "id": "5042e146-b2d2-4132-9e24-9fd4406c4bad",
   "metadata": {},
   "source": [
    "### Exercise 3: \n",
    "Squares of Even/Odd Numbers\n",
    "________________________\n",
    "Create a Python script that prints the squares of all even or odd numbers within the range of 100 to 200. Choose either even or odd numbers and document your choice in the code ."
   ]
  },
  {
   "cell_type": "code",
   "execution_count": 33,
   "id": "69466fe4-6049-4a4e-939d-128e011132c4",
   "metadata": {},
   "outputs": [
    {
     "name": "stdout",
     "output_type": "stream",
     "text": [
      " The number is 100,Square of the number:10000\n",
      " The number is 102,Square of the number:10404\n",
      " The number is 104,Square of the number:10816\n",
      " The number is 106,Square of the number:11236\n",
      " The number is 108,Square of the number:11664\n",
      " The number is 110,Square of the number:12100\n",
      " The number is 112,Square of the number:12544\n",
      " The number is 114,Square of the number:12996\n",
      " The number is 116,Square of the number:13456\n",
      " The number is 118,Square of the number:13924\n",
      " The number is 120,Square of the number:14400\n",
      " The number is 122,Square of the number:14884\n",
      " The number is 124,Square of the number:15376\n",
      " The number is 126,Square of the number:15876\n",
      " The number is 128,Square of the number:16384\n",
      " The number is 130,Square of the number:16900\n",
      " The number is 132,Square of the number:17424\n",
      " The number is 134,Square of the number:17956\n",
      " The number is 136,Square of the number:18496\n",
      " The number is 138,Square of the number:19044\n",
      " The number is 140,Square of the number:19600\n",
      " The number is 142,Square of the number:20164\n",
      " The number is 144,Square of the number:20736\n",
      " The number is 146,Square of the number:21316\n",
      " The number is 148,Square of the number:21904\n",
      " The number is 150,Square of the number:22500\n",
      " The number is 152,Square of the number:23104\n",
      " The number is 154,Square of the number:23716\n",
      " The number is 156,Square of the number:24336\n",
      " The number is 158,Square of the number:24964\n",
      " The number is 160,Square of the number:25600\n",
      " The number is 162,Square of the number:26244\n",
      " The number is 164,Square of the number:26896\n",
      " The number is 166,Square of the number:27556\n",
      " The number is 168,Square of the number:28224\n",
      " The number is 170,Square of the number:28900\n",
      " The number is 172,Square of the number:29584\n",
      " The number is 174,Square of the number:30276\n",
      " The number is 176,Square of the number:30976\n",
      " The number is 178,Square of the number:31684\n",
      " The number is 180,Square of the number:32400\n",
      " The number is 182,Square of the number:33124\n",
      " The number is 184,Square of the number:33856\n",
      " The number is 186,Square of the number:34596\n",
      " The number is 188,Square of the number:35344\n",
      " The number is 190,Square of the number:36100\n",
      " The number is 192,Square of the number:36864\n",
      " The number is 194,Square of the number:37636\n",
      " The number is 196,Square of the number:38416\n",
      " The number is 198,Square of the number:39204\n",
      " The number is 200,Square of the number:40000\n"
     ]
    }
   ],
   "source": [
    "p1 = Start = 100\n",
    "p2 = End = 200\n",
    "for number in range(p1,p2+1):\n",
    "    if number % 2 ==0:\n",
    "        square = number ** 2\n",
    "        print(f\" The number is {number},Square of the number:{square}\")\n"
   ]
  },
  {
   "cell_type": "markdown",
   "id": "a2085c44-7495-44d7-80af-a3f5605d946f",
   "metadata": {},
   "source": [
    "## Exercise 4: \n",
    "Word counter\n",
    "_____________________________________\n",
    "write a program to count the number of words in a given text.\n"
   ]
  },
  {
   "cell_type": "code",
   "execution_count": 21,
   "id": "d2accbc9-5bae-4d2f-943f-233bc339212f",
   "metadata": {},
   "outputs": [
    {
     "name": "stdin",
     "output_type": "stream",
     "text": [
      "Enter text:  hi malu\n"
     ]
    },
    {
     "name": "stdout",
     "output_type": "stream",
     "text": [
      "Word count: 2\n"
     ]
    }
   ],
   "source": [
    "text = input(\"Enter text: \")\n",
    "print(\"Word count:\", len(text.split()))"
   ]
  },
  {
   "cell_type": "code",
   "execution_count": 25,
   "id": "04428406-09c8-4c6b-926a-66441472d4df",
   "metadata": {},
   "outputs": [
    {
     "name": "stdin",
     "output_type": "stream",
     "text": [
      "Write your sample text : hey macha\n"
     ]
    },
    {
     "name": "stdout",
     "output_type": "stream",
     "text": [
      " hey : 1\n",
      " macha : 1\n"
     ]
    }
   ],
   "source": [
    "from collections import Counter\n",
    "text=input(\"Write your sample text :\")\n",
    "word_counts = Counter(text.split())\n",
    "for word , count in word_counts.items():\n",
    "    print(f\" {word} : {count}\")"
   ]
  },
  {
   "cell_type": "markdown",
   "id": "cd28a318-3bc5-4e64-acc8-f319d96781f8",
   "metadata": {},
   "source": [
    "Exercise 5: \n",
    "Check for Palindrome\n",
    "_________________________________\n",
    "Write a Python function called is_palindrome that takes a string as input and returns True if the string is a palindrome, and False otherwise. A palindrome is a word, phrase, number, or other sequence of characters that reads the same forward and backward, ignoring spaces, punctuation, and capitalization"
   ]
  },
  {
   "cell_type": "code",
   "execution_count": 3,
   "id": "ff6e2e24-27fa-4377-93b8-d00a104f12e1",
   "metadata": {},
   "outputs": [
    {
     "name": "stdout",
     "output_type": "stream",
     "text": [
      "True\n",
      "False\n"
     ]
    }
   ],
   "source": [
    "def _is_palindrome(Word):\n",
    "    text = ''.join(char.lower() for char in Word if char.isalnum())\n",
    "    return text == text[::-1]\n",
    "\n",
    "print(_is_palindrome(\"Racecar\"))\n",
    "print(_is_palindrome(\"Hello\"))"
   ]
  },
  {
   "cell_type": "code",
   "execution_count": 28,
   "id": "7f77287d-5180-465c-bd91-5b1afb748374",
   "metadata": {},
   "outputs": [
    {
     "name": "stdin",
     "output_type": "stream",
     "text": [
      "Enter your Word: racecar\n"
     ]
    },
    {
     "name": "stdout",
     "output_type": "stream",
     "text": [
      "racecar is palindrome \n"
     ]
    }
   ],
   "source": [
    "import re\n",
    "Wrd = input(\"Enter your Word:\")\n",
    "\n",
    "def _is_palindrome(Wrd):\n",
    "        cleaned_string = re.sub(r'[^a-zA-Z0-9]', '', Wrd).lower()\n",
    "        # return cleaned_string == cleaned_string[::-1]\n",
    "        if cleaned_string == cleaned_string[::-1]:\n",
    "                print(f\"{Wrd} is palindrome \")\n",
    "        else:\n",
    "                print(f\"{Wrd} is not palindrome\")\n",
    "\n",
    "_is_palindrome(Wrd)"
   ]
  },
  {
   "cell_type": "code",
   "execution_count": null,
   "id": "eef64c33-b32f-44e3-91bb-b311892ff00f",
   "metadata": {},
   "outputs": [],
   "source": []
  }
 ],
 "metadata": {
  "kernelspec": {
   "display_name": "Python [conda env:base] *",
   "language": "python",
   "name": "conda-base-py"
  },
  "language_info": {
   "codemirror_mode": {
    "name": "ipython",
    "version": 3
   },
   "file_extension": ".py",
   "mimetype": "text/x-python",
   "name": "python",
   "nbconvert_exporter": "python",
   "pygments_lexer": "ipython3",
   "version": "3.12.7"
  }
 },
 "nbformat": 4,
 "nbformat_minor": 5
}
